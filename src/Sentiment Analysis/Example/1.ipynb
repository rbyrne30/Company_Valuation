{
 "cells": [
  {
   "cell_type": "code",
   "execution_count": 14,
   "metadata": {},
   "outputs": [],
   "source": [
    "import numpy as np # linear algebra\n",
    "import pandas as pd # data processing, CSV file I/O (e.g. pd.read_csv)\n",
    "\n",
    "from sklearn.feature_extraction.text import CountVectorizer\n",
    "from keras.preprocessing.text import Tokenizer\n",
    "from keras.preprocessing.sequence import pad_sequences\n",
    "from keras.models import Sequential\n",
    "from keras.layers import Dense, Embedding, LSTM, SpatialDropout1D\n",
    "from sklearn.model_selection import train_test_split\n",
    "from keras.utils.np_utils import to_categorical\n",
    "import re"
   ]
  },
  {
   "cell_type": "code",
   "execution_count": 17,
   "metadata": {},
   "outputs": [],
   "source": [
    "data = pd.read_csv('./all-data-cpy.csv', names=[\"sentiment\", \"text\", \" \", \"\"])\n",
    "# Keeping only the neccessary columns\n",
    "data = data[['text','sentiment']]"
   ]
  },
  {
   "cell_type": "code",
   "execution_count": 18,
   "metadata": {},
   "outputs": [
    {
     "name": "stdout",
     "output_type": "stream",
     "text": [
      "2726\n",
      "1208\n"
     ]
    }
   ],
   "source": [
    "data = data[data.sentiment != \"neutral\"]\n",
    "data['text'] = data['text'].apply(lambda x: x.lower())\n",
    "data['text'] = data['text'].apply((lambda x: re.sub('[^a-zA-z0-9\\s]','',x)))\n",
    "\n",
    "print(data[ data['sentiment'] == 'positive'].size)\n",
    "print(data[ data['sentiment'] == 'negative'].size)\n",
    "\n",
    "for idx,row in data.iterrows():\n",
    "    row[0] = row[0].replace('rt',' ')\n",
    "    \n",
    "max_fatures = 2000\n",
    "tokenizer = Tokenizer(num_words=max_fatures, split=' ')\n",
    "tokenizer.fit_on_texts(data['text'].values)\n",
    "X = tokenizer.texts_to_sequences(data['text'].values)\n",
    "X = pad_sequences(X)"
   ]
  },
  {
   "cell_type": "code",
   "execution_count": 19,
   "metadata": {},
   "outputs": [
    {
     "name": "stdout",
     "output_type": "stream",
     "text": [
      "Model: \"sequential_1\"\n",
      "_________________________________________________________________\n",
      "Layer (type)                 Output Shape              Param #   \n",
      "=================================================================\n",
      "embedding_1 (Embedding)      (None, 50, 128)           256000    \n",
      "_________________________________________________________________\n",
      "spatial_dropout1d_1 (Spatial (None, 50, 128)           0         \n",
      "_________________________________________________________________\n",
      "lstm_1 (LSTM)                (None, 196)               254800    \n",
      "_________________________________________________________________\n",
      "dense_1 (Dense)              (None, 2)                 394       \n",
      "=================================================================\n",
      "Total params: 511,194\n",
      "Trainable params: 511,194\n",
      "Non-trainable params: 0\n",
      "_________________________________________________________________\n",
      "None\n"
     ]
    }
   ],
   "source": [
    "embed_dim = 128\n",
    "lstm_out = 196\n",
    "\n",
    "model = Sequential()\n",
    "model.add(Embedding(max_fatures, embed_dim,input_length = X.shape[1]))\n",
    "model.add(SpatialDropout1D(0.4))\n",
    "model.add(LSTM(lstm_out, dropout=0.2, recurrent_dropout=0.2))\n",
    "model.add(Dense(2,activation='softmax'))\n",
    "model.compile(loss = 'categorical_crossentropy', optimizer='adam',metrics = ['accuracy'])\n",
    "print(model.summary())"
   ]
  },
  {
   "cell_type": "code",
   "execution_count": 31,
   "metadata": {},
   "outputs": [
    {
     "name": "stdout",
     "output_type": "stream",
     "text": [
      "(1317, 50) (1317, 2)\n",
      "(650, 50) (650, 2)\n"
     ]
    }
   ],
   "source": [
    "\n",
    "\n",
    "Y = pd.get_dummies(data['sentiment']).values\n",
    "X_train, X_test, Y_train, Y_test = train_test_split(X,Y, test_size = 0.33, random_state = 42)\n",
    "print(X_train.shape,Y_train.shape)\n",
    "print(X_test.shape,Y_test.shape)\n",
    "\n"
   ]
  },
  {
   "cell_type": "code",
   "execution_count": 34,
   "metadata": {},
   "outputs": [
    {
     "name": "stdout",
     "output_type": "stream",
     "text": [
      "Epoch 1/7\n",
      "42/42 - 3s - loss: 0.0489 - accuracy: 0.9833\n",
      "Epoch 2/7\n",
      "42/42 - 3s - loss: 0.0354 - accuracy: 0.9879\n",
      "Epoch 3/7\n",
      "42/42 - 3s - loss: 0.0395 - accuracy: 0.9863\n",
      "Epoch 4/7\n",
      "42/42 - 3s - loss: 0.0300 - accuracy: 0.9916\n",
      "Epoch 5/7\n",
      "42/42 - 3s - loss: 0.0235 - accuracy: 0.9939\n",
      "Epoch 6/7\n",
      "42/42 - 3s - loss: 0.0158 - accuracy: 0.9962\n",
      "Epoch 7/7\n",
      "42/42 - 3s - loss: 0.0176 - accuracy: 0.9947\n"
     ]
    },
    {
     "data": {
      "text/plain": [
       "<keras.callbacks.History at 0x7fa9cf904070>"
      ]
     },
     "execution_count": 34,
     "metadata": {},
     "output_type": "execute_result"
    }
   ],
   "source": [
    "batch_size = 32\n",
    "model.fit(X_train, Y_train, epochs = 7, batch_size=batch_size, verbose = 2)\n"
   ]
  },
  {
   "cell_type": "code",
   "execution_count": 36,
   "metadata": {},
   "outputs": [
    {
     "data": {
      "text/plain": [
       "(650, 2)"
      ]
     },
     "execution_count": 36,
     "metadata": {},
     "output_type": "execute_result"
    }
   ],
   "source": [
    "Y_test.shape"
   ]
  },
  {
   "cell_type": "code",
   "execution_count": 38,
   "metadata": {},
   "outputs": [
    {
     "name": "stdout",
     "output_type": "stream",
     "text": [
      "15/15 - 1s - loss: 0.7212 - accuracy: 0.8333\n",
      "score: 0.72\n",
      "acc: 0.83\n"
     ]
    }
   ],
   "source": [
    "validation_size = 100\n",
    "\n",
    "X_validate = X_test[-validation_size:]\n",
    "Y_validate = Y_test[-validation_size:]\n",
    "X_test = X_test[:-validation_size]\n",
    "Y_test = Y_test[:-validation_size]\n",
    "score,acc = model.evaluate(X_test, Y_test, verbose = 2, batch_size = batch_size)\n",
    "print(\"score: %.2f\" % (score))\n",
    "print(\"acc: %.2f\" % (acc))"
   ]
  },
  {
   "cell_type": "code",
   "execution_count": 39,
   "metadata": {
    "scrolled": true
   },
   "outputs": [
    {
     "name": "stdout",
     "output_type": "stream",
     "text": [
      "1/1 - 1s\n",
      "1/1 - 0s\n",
      "1/1 - 0s\n",
      "1/1 - 0s\n",
      "1/1 - 0s\n",
      "1/1 - 0s\n",
      "1/1 - 0s\n",
      "1/1 - 0s\n",
      "1/1 - 0s\n",
      "1/1 - 0s\n",
      "1/1 - 0s\n",
      "1/1 - 0s\n",
      "1/1 - 0s\n",
      "1/1 - 0s\n",
      "1/1 - 0s\n",
      "1/1 - 0s\n",
      "1/1 - 0s\n",
      "1/1 - 0s\n",
      "1/1 - 0s\n",
      "1/1 - 0s\n",
      "1/1 - 0s\n",
      "1/1 - 0s\n",
      "1/1 - 0s\n",
      "1/1 - 0s\n",
      "1/1 - 0s\n",
      "1/1 - 0s\n",
      "1/1 - 0s\n",
      "1/1 - 0s\n",
      "1/1 - 0s\n",
      "1/1 - 0s\n",
      "1/1 - 0s\n",
      "1/1 - 0s\n",
      "1/1 - 0s\n",
      "1/1 - 0s\n",
      "1/1 - 0s\n",
      "1/1 - 0s\n",
      "1/1 - 0s\n",
      "1/1 - 0s\n",
      "1/1 - 0s\n",
      "1/1 - 0s\n",
      "1/1 - 0s\n",
      "1/1 - 0s\n",
      "1/1 - 0s\n",
      "1/1 - 0s\n",
      "1/1 - 0s\n",
      "1/1 - 0s\n",
      "1/1 - 0s\n",
      "1/1 - 0s\n",
      "1/1 - 0s\n",
      "1/1 - 0s\n",
      "1/1 - 0s\n",
      "1/1 - 0s\n",
      "1/1 - 0s\n",
      "1/1 - 0s\n",
      "1/1 - 0s\n",
      "1/1 - 0s\n",
      "1/1 - 0s\n",
      "1/1 - 0s\n",
      "1/1 - 0s\n",
      "1/1 - 0s\n",
      "1/1 - 0s\n",
      "1/1 - 0s\n",
      "1/1 - 0s\n",
      "1/1 - 0s\n",
      "1/1 - 0s\n",
      "1/1 - 0s\n",
      "1/1 - 0s\n",
      "1/1 - 0s\n",
      "1/1 - 0s\n",
      "1/1 - 0s\n",
      "1/1 - 0s\n",
      "1/1 - 0s\n",
      "1/1 - 0s\n",
      "1/1 - 0s\n",
      "1/1 - 0s\n",
      "1/1 - 0s\n",
      "1/1 - 0s\n",
      "1/1 - 0s\n",
      "1/1 - 0s\n",
      "1/1 - 0s\n",
      "1/1 - 0s\n",
      "1/1 - 0s\n",
      "1/1 - 0s\n",
      "1/1 - 0s\n",
      "1/1 - 0s\n",
      "1/1 - 0s\n",
      "1/1 - 0s\n",
      "1/1 - 0s\n",
      "1/1 - 0s\n",
      "1/1 - 0s\n",
      "1/1 - 0s\n",
      "1/1 - 0s\n",
      "1/1 - 0s\n",
      "1/1 - 0s\n",
      "1/1 - 0s\n",
      "1/1 - 0s\n",
      "1/1 - 0s\n",
      "1/1 - 0s\n",
      "1/1 - 0s\n",
      "1/1 - 0s\n",
      "pos_acc 94.11764705882352 %\n",
      "neg_acc 84.375 %\n"
     ]
    }
   ],
   "source": [
    "pos_cnt, neg_cnt, pos_correct, neg_correct = 0, 0, 0, 0\n",
    "for x in range(len(X_validate)):\n",
    "    \n",
    "    result = model.predict(X_validate[x].reshape(1,X_test.shape[1]),batch_size=1,verbose = 2)[0]\n",
    "   \n",
    "    if np.argmax(result) == np.argmax(Y_validate[x]):\n",
    "        if np.argmax(Y_validate[x]) == 0:\n",
    "            neg_correct += 1\n",
    "        else:\n",
    "            pos_correct += 1\n",
    "       \n",
    "    if np.argmax(Y_validate[x]) == 0:\n",
    "        neg_cnt += 1\n",
    "    else:\n",
    "        pos_cnt += 1\n",
    "\n",
    "\n",
    "\n",
    "print(\"pos_acc\", pos_correct/pos_cnt*100, \"%\")\n",
    "print(\"neg_acc\", neg_correct/neg_cnt*100, \"%\")"
   ]
  },
  {
   "cell_type": "code",
   "execution_count": 55,
   "metadata": {},
   "outputs": [
    {
     "name": "stdout",
     "output_type": "stream",
     "text": [
      "[[ 0  0  0  0  0  0  0  0  0  0  0  0  0  0  0  0  0  0  0  0  0  0  0  0\n",
      "   0  0  0 56]]\n",
      "1/1 - 0s\n",
      "negative\n"
     ]
    }
   ],
   "source": [
    "twt = [\n",
    "#     'Charlottesville Removes Robert E. Lee Statue That Sparked A Deadly Rally',\n",
    "#     \"The Entomological Society of America says the common names for the two insects include a pejorative for Roma people. It's part of a wider effort to replace names that are inappropriate or offensive.\"\n",
    "#     \"Insect Experts Will Change The Name Of The 'Gypsy Moth' And 'Gypsy Ant'\"\n",
    "#     \"A Houston Man Is Arrested For Alleged Illegal Voting As Texas GOP Seeks Tighter Laws\"\n",
    "#     \"Trouble in 'Paradise' as reality TV star calls out show for manipulating photo\"\n",
    "    \"\"\"\n",
    "    Apple AirPod batteries are terrible\n",
    "    \"\"\"\n",
    "]\n",
    "#vectorizing the tweet by the pre-fitted tokenizer instance\n",
    "twt = tokenizer.texts_to_sequences(twt)\n",
    "#padding the tweet to have exactly the same shape as `embedding_2` input\n",
    "twt = pad_sequences(twt, maxlen=28, dtype='int32', value=0)\n",
    "print(twt)\n",
    "sentiment = model.predict(twt,batch_size=1,verbose = 2)[0]\n",
    "if(np.argmax(sentiment) == 0):\n",
    "    print(\"negative\")\n",
    "elif (np.argmax(sentiment) == 1):\n",
    "    print(\"positive\")"
   ]
  },
  {
   "cell_type": "code",
   "execution_count": null,
   "metadata": {},
   "outputs": [],
   "source": []
  }
 ],
 "metadata": {
  "kernelspec": {
   "display_name": "Python 3.6",
   "language": "python",
   "name": "dlwp"
  },
  "language_info": {
   "codemirror_mode": {
    "name": "ipython",
    "version": 3
   },
   "file_extension": ".py",
   "mimetype": "text/x-python",
   "name": "python",
   "nbconvert_exporter": "python",
   "pygments_lexer": "ipython3",
   "version": "3.8.8"
  }
 },
 "nbformat": 4,
 "nbformat_minor": 4
}
