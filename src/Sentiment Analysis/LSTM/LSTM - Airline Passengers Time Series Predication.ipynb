{
 "cells": [
  {
   "cell_type": "markdown",
   "metadata": {},
   "source": [
    "### Original Article: https://machinelearningmastery.com/time-series-prediction-lstm-recurrent-neural-networks-python-keras/"
   ]
  },
  {
   "cell_type": "markdown",
   "metadata": {},
   "source": [
    "# LSTM Memory Network"
   ]
  },
  {
   "cell_type": "markdown",
   "metadata": {},
   "source": [
    "The Long Short-Term Memory network, or LSTM network, is a recurrent neural network that is trained using Backpropagation Through Time and overcomes the vanishing gradient problem.\n",
    "\n",
    "As such, it can be used to create large recurrent networks that in turn can be used to address difficult sequence problems in machine learning and achieve state-of-the-art results.\n",
    "\n",
    "Instead of neurons, LSTM networks have memory blocks that are connected through layers.\n",
    "\n",
    "A block has components that make it smarter than a classical neuron and a memory for recent sequences. A block contains gates that manage the block’s state and output. A block operates upon an input sequence and each gate within a block uses the sigmoid activation units to control whether they are triggered or not, making the change of state and addition of information flowing through the block conditional.\n",
    "\n",
    "There are three types of gates within a unit:\n",
    "\n",
    "    Forget Gate: conditionally decides what information to throw away from the block.\n",
    "    Input Gate: conditionally decides which values from the input to update the memory state.\n",
    "    Output Gate: conditionally decides what to output based on input and the memory of the block.\n",
    "\n",
    "Each unit is like a mini-state machine where the gates of the units have weights that are learned during the training procedure.\n",
    "\n",
    "You can see how you may achieve sophisticated learning and memory from a layer of LSTMs, and it is not hard to imagine how higher-order abstractions may be layered with multiple such layers."
   ]
  },
  {
   "cell_type": "code",
   "execution_count": 14,
   "metadata": {},
   "outputs": [],
   "source": [
    "import numpy as np\n",
    "import matplotlib.pyplot as plt\n",
    "import pandas\n",
    "import math\n",
    "from keras.models import Sequential\n",
    "from keras.layers import Dense\n",
    "from keras.layers import LSTM\n",
    "from sklearn.preprocessing import MinMaxScaler\n",
    "from sklearn.metrics import mean_squared_error\n",
    "import pandas as pd\n",
    "import matplotlib.pyplot as plt\n",
    "\n",
    "np.random.seed(7)"
   ]
  },
  {
   "cell_type": "code",
   "execution_count": 9,
   "metadata": {},
   "outputs": [
    {
     "data": {
      "image/png": "[encoded data removed]",
      "text/plain": [
       "<Figure size 432x288 with 1 Axes>"
      ]
     },
     "metadata": {
      "needs_background": "light"
     },
     "output_type": "display_data"
    }
   ],
   "source": [
    "dataframe = pd.read_csv(\"./data/airline-passengers.csv\", usecols=[1], engine='python')\n",
    "plt.plot(dataframe)\n",
    "plt.show()"
   ]
  },
  {
   "cell_type": "markdown",
   "metadata": {},
   "source": [
    "# LSTM Network for Regression"
   ]
  },
  {
   "cell_type": "markdown",
   "metadata": {},
   "source": [
    "We can phrase the problem as a regression problem.\n",
    "\n",
    "That is, given the number of passengers (in units of thousands) this month, what is the number of passengers next month?\n",
    "\n",
    "We can write a simple function to convert our single column of data into a two-column dataset: the first column containing this month’s (t) passenger count and the second column containing next month’s (t+1) passenger count, to be predicted.\n",
    "\n",
    "Before we get started, let’s first import all of the functions and classes we intend to use. This assumes a working SciPy environment with the Keras deep learning library installed."
   ]
  },
  {
   "cell_type": "code",
   "execution_count": 12,
   "metadata": {},
   "outputs": [],
   "source": [
    "# convert values to float\n",
    "dataset = dataframe.values.astype('float32')"
   ]
  },
  {
   "cell_type": "markdown",
   "metadata": {},
   "source": [
    "LSTMs are sensitive to the scale of the input data, specifically when the sigmoid (default) or tanh activation functions are used. It can be a good practice to rescale the data to the range of 0-to-1, also called normalizing. We can easily normalize the dataset using the MinMaxScaler preprocessing class from the scikit-learn library."
   ]
  },
  {
   "cell_type": "code",
   "execution_count": 16,
   "metadata": {},
   "outputs": [],
   "source": [
    "# normalize the dataset\n",
    "scaler = MinMaxScaler(feature_range=(0, 1))\n",
    "dataset = scaler.fit_transform(dataset)"
   ]
  },
  {
   "cell_type": "markdown",
   "metadata": {},
   "source": [
    "After we model our data and estimate the skill of our model on the training dataset, we need to get an idea of the skill of the model on new unseen data. For a normal classification or regression problem, we would do this using cross validation.\n",
    "\n",
    "With time series data, the sequence of values is important. A simple method that we can use is to split the ordered dataset into train and test datasets. The code below calculates the index of the split point and separates the data into the training datasets with 67% of the observations that we can use to train our model, leaving the remaining 33% for testing the model."
   ]
  },
  {
   "cell_type": "code",
   "execution_count": 18,
   "metadata": {},
   "outputs": [
    {
     "name": "stdout",
     "output_type": "stream",
     "text": [
      "96 48\n"
     ]
    }
   ],
   "source": [
    "# split test and train data\n",
    "train_size = int(len(dataset) * 0.67)\n",
    "test_size = len(dataset) - train_size\n",
    "train, test = dataset[0:train_size, :], dataset[train_size:len(dataset), :]\n",
    "print(len(train), len(test))"
   ]
  },
  {
   "cell_type": "markdown",
   "metadata": {},
   "source": [
    "Now we can define a function to create a new dataset, as described above.\n",
    "\n",
    "The function takes two arguments: the dataset, which is a NumPy array that we want to convert into a dataset, and the look_back, which is the number of previous time steps to use as input variables to predict the next time period — in this case defaulted to 1.\n",
    "\n",
    "This default will create a dataset where X is the number of passengers at a given time (t) and Y is the number of passengers at the next time (t + 1).\n",
    "\n",
    "It can be configured, and we will by constructing a differently shaped dataset in the next section."
   ]
  },
  {
   "cell_type": "code",
   "execution_count": 19,
   "metadata": {},
   "outputs": [],
   "source": [
    "def create_dataset(dataset, look_back=1):\n",
    "    dataX, dataY = [], []\n",
    "    for i in range(len(dataset)-look_back-1):\n",
    "        a = dataset[i:(i+look_back), 0]\n",
    "        dataX.append(a)\n",
    "        dataY.append(dataset[i+look_back, 0])\n",
    "    return np.array(dataX), np.array(dataY)"
   ]
  },
  {
   "cell_type": "code",
   "execution_count": 20,
   "metadata": {},
   "outputs": [],
   "source": [
    "look_back = 1\n",
    "trainX, trainY = create_dataset(train, look_back)\n",
    "testX, testY = create_dataset(test, look_back)"
   ]
  },
  {
   "cell_type": "markdown",
   "metadata": {},
   "source": [
    "The LSTM network expects the input data (X) to be provided with a specific array structure in the form of: [samples, time steps, features].\n",
    "\n",
    "Currently, our data is in the form: [samples, features] and we are framing the problem as one time step for each sample. We can transform the prepared train and test input data into the expected structure using numpy.reshape() as follows:"
   ]
  },
  {
   "cell_type": "code",
   "execution_count": 21,
   "metadata": {},
   "outputs": [],
   "source": [
    "# reshape input to be [samples, time steps, features]\n",
    "trainX = np.reshape(trainX, (trainX.shape[0], 1, trainX.shape[1]))\n",
    "testX = np.reshape(testX, (testX.shape[0], 1, testX.shape[1]))"
   ]
  },
  {
   "cell_type": "markdown",
   "metadata": {},
   "source": [
    "We are now ready to design and fit our LSTM network for this problem.\n",
    "\n",
    "The network has a visible layer with 1 input, a hidden layer with 4 LSTM blocks or neurons, and an output layer that makes a single value prediction. The default sigmoid activation function is used for the LSTM blocks. The network is trained for 100 epochs and a batch size of 1 is used."
   ]
  },
  {
   "cell_type": "code",
   "execution_count": 22,
   "metadata": {},
   "outputs": [
    {
     "name": "stderr",
     "output_type": "stream",
     "text": [
      "2021-07-10 16:16:08.818990: W tensorflow/stream_executor/platform/default/dso_loader.cc:64] Could not load dynamic library 'libcuda.so.1'; dlerror: libcuda.so.1: cannot open shared object file: No such file or directory\n",
      "2021-07-10 16:16:08.819044: W tensorflow/stream_executor/cuda/cuda_driver.cc:326] failed call to cuInit: UNKNOWN ERROR (303)\n",
      "2021-07-10 16:16:08.819089: I tensorflow/stream_executor/cuda/cuda_diagnostics.cc:156] kernel driver does not appear to be running on this host (ryan-Precision-5520): /proc/driver/nvidia/version does not exist\n",
      "2021-07-10 16:16:08.819469: I tensorflow/core/platform/cpu_feature_guard.cc:142] This TensorFlow binary is optimized with oneAPI Deep Neural Network Library (oneDNN) to use the following CPU instructions in performance-critical operations:  AVX2 FMA\n",
      "To enable them in other operations, rebuild TensorFlow with the appropriate compiler flags.\n",
      "2021-07-10 16:16:09.275180: I tensorflow/compiler/mlir/mlir_graph_optimization_pass.cc:176] None of the MLIR Optimization Passes are enabled (registered 2)\n",
      "2021-07-10 16:16:09.293550: I tensorflow/core/platform/profile_utils/cpu_utils.cc:114] CPU Frequency: 2899885000 Hz\n"
     ]
    },
    {
     "name": "stdout",
     "output_type": "stream",
     "text": [
      "Epoch 1/100\n",
      "94/94 - 15s - loss: 0.0441\n",
      "Epoch 2/100\n",
      "94/94 - 0s - loss: 0.0212\n",
      "Epoch 3/100\n",
      "94/94 - 0s - loss: 0.0165\n",
      "Epoch 4/100\n",
      "94/94 - 0s - loss: 0.0152\n",
      "Epoch 5/100\n",
      "94/94 - 0s - loss: 0.0141\n",
      "Epoch 6/100\n",
      "94/94 - 0s - loss: 0.0131\n",
      "Epoch 7/100\n",
      "94/94 - 0s - loss: 0.0120\n",
      "Epoch 8/100\n",
      "94/94 - 0s - loss: 0.0111\n",
      "Epoch 9/100\n",
      "94/94 - 0s - loss: 0.0100\n",
      "Epoch 10/100\n",
      "94/94 - 0s - loss: 0.0091\n",
      "Epoch 11/100\n",
      "94/94 - 0s - loss: 0.0082\n",
      "Epoch 12/100\n",
      "94/94 - 0s - loss: 0.0073\n",
      "Epoch 13/100\n",
      "94/94 - 0s - loss: 0.0065\n",
      "Epoch 14/100\n",
      "94/94 - 0s - loss: 0.0056\n",
      "Epoch 15/100\n",
      "94/94 - 0s - loss: 0.0050\n",
      "Epoch 16/100\n",
      "94/94 - 0s - loss: 0.0044\n",
      "Epoch 17/100\n",
      "94/94 - 0s - loss: 0.0037\n",
      "Epoch 18/100\n",
      "94/94 - 0s - loss: 0.0034\n",
      "Epoch 19/100\n",
      "94/94 - 0s - loss: 0.0030\n",
      "Epoch 20/100\n",
      "94/94 - 0s - loss: 0.0027\n",
      "Epoch 21/100\n",
      "94/94 - 0s - loss: 0.0025\n",
      "Epoch 22/100\n",
      "94/94 - 0s - loss: 0.0023\n",
      "Epoch 23/100\n",
      "94/94 - 0s - loss: 0.0022\n",
      "Epoch 24/100\n",
      "94/94 - 0s - loss: 0.0022\n",
      "Epoch 25/100\n",
      "94/94 - 0s - loss: 0.0021\n",
      "Epoch 26/100\n",
      "94/94 - 0s - loss: 0.0020\n",
      "Epoch 27/100\n",
      "94/94 - 0s - loss: 0.0020\n",
      "Epoch 28/100\n",
      "94/94 - 0s - loss: 0.0020\n",
      "Epoch 29/100\n",
      "94/94 - 0s - loss: 0.0020\n",
      "Epoch 30/100\n",
      "94/94 - 0s - loss: 0.0019\n",
      "Epoch 31/100\n",
      "94/94 - 0s - loss: 0.0020\n",
      "Epoch 32/100\n",
      "94/94 - 0s - loss: 0.0020\n",
      "Epoch 33/100\n",
      "94/94 - 0s - loss: 0.0020\n",
      "Epoch 34/100\n",
      "94/94 - 0s - loss: 0.0020\n",
      "Epoch 35/100\n",
      "94/94 - 0s - loss: 0.0020\n",
      "Epoch 36/100\n",
      "94/94 - 0s - loss: 0.0020\n",
      "Epoch 37/100\n",
      "94/94 - 0s - loss: 0.0020\n",
      "Epoch 38/100\n",
      "94/94 - 0s - loss: 0.0020\n",
      "Epoch 39/100\n",
      "94/94 - 0s - loss: 0.0020\n",
      "Epoch 40/100\n",
      "94/94 - 0s - loss: 0.0020\n",
      "Epoch 41/100\n",
      "94/94 - 0s - loss: 0.0020\n",
      "Epoch 42/100\n",
      "94/94 - 0s - loss: 0.0020\n",
      "Epoch 43/100\n",
      "94/94 - 0s - loss: 0.0019\n",
      "Epoch 44/100\n",
      "94/94 - 0s - loss: 0.0021\n",
      "Epoch 45/100\n",
      "94/94 - 0s - loss: 0.0020\n",
      "Epoch 46/100\n",
      "94/94 - 0s - loss: 0.0020\n",
      "Epoch 47/100\n",
      "94/94 - 0s - loss: 0.0020\n",
      "Epoch 48/100\n",
      "94/94 - 0s - loss: 0.0020\n",
      "Epoch 49/100\n",
      "94/94 - 0s - loss: 0.0020\n",
      "Epoch 50/100\n",
      "94/94 - 0s - loss: 0.0021\n",
      "Epoch 51/100\n",
      "94/94 - 0s - loss: 0.0020\n",
      "Epoch 52/100\n",
      "94/94 - 0s - loss: 0.0020\n",
      "Epoch 53/100\n",
      "94/94 - 0s - loss: 0.0020\n",
      "Epoch 54/100\n",
      "94/94 - 0s - loss: 0.0020\n",
      "Epoch 55/100\n",
      "94/94 - 0s - loss: 0.0020\n",
      "Epoch 56/100\n",
      "94/94 - 0s - loss: 0.0020\n",
      "Epoch 57/100\n",
      "94/94 - 0s - loss: 0.0020\n",
      "Epoch 58/100\n",
      "94/94 - 0s - loss: 0.0020\n",
      "Epoch 59/100\n",
      "94/94 - 0s - loss: 0.0020\n",
      "Epoch 60/100\n",
      "94/94 - 0s - loss: 0.0020\n",
      "Epoch 61/100\n",
      "94/94 - 0s - loss: 0.0020\n",
      "Epoch 62/100\n",
      "94/94 - 0s - loss: 0.0020\n",
      "Epoch 63/100\n",
      "94/94 - 0s - loss: 0.0020\n",
      "Epoch 64/100\n",
      "94/94 - 0s - loss: 0.0020\n",
      "Epoch 65/100\n",
      "94/94 - 0s - loss: 0.0020\n",
      "Epoch 66/100\n",
      "94/94 - 0s - loss: 0.0021\n",
      "Epoch 67/100\n",
      "94/94 - 0s - loss: 0.0020\n",
      "Epoch 68/100\n",
      "94/94 - 0s - loss: 0.0020\n",
      "Epoch 69/100\n",
      "94/94 - 0s - loss: 0.0020\n",
      "Epoch 70/100\n",
      "94/94 - 0s - loss: 0.0019\n",
      "Epoch 71/100\n",
      "94/94 - 0s - loss: 0.0020\n",
      "Epoch 72/100\n",
      "94/94 - 0s - loss: 0.0020\n",
      "Epoch 73/100\n",
      "94/94 - 0s - loss: 0.0020\n",
      "Epoch 74/100\n",
      "94/94 - 0s - loss: 0.0020\n",
      "Epoch 75/100\n",
      "94/94 - 0s - loss: 0.0020\n",
      "Epoch 76/100\n",
      "94/94 - 0s - loss: 0.0021\n",
      "Epoch 77/100\n",
      "94/94 - 0s - loss: 0.0020\n",
      "Epoch 78/100\n",
      "94/94 - 0s - loss: 0.0020\n",
      "Epoch 79/100\n",
      "94/94 - 0s - loss: 0.0020\n",
      "Epoch 80/100\n",
      "94/94 - 0s - loss: 0.0020\n",
      "Epoch 81/100\n",
      "94/94 - 0s - loss: 0.0020\n",
      "Epoch 82/100\n",
      "94/94 - 0s - loss: 0.0020\n",
      "Epoch 83/100\n",
      "94/94 - 0s - loss: 0.0020\n",
      "Epoch 84/100\n",
      "94/94 - 0s - loss: 0.0020\n",
      "Epoch 85/100\n",
      "94/94 - 0s - loss: 0.0020\n",
      "Epoch 86/100\n",
      "94/94 - 0s - loss: 0.0020\n",
      "Epoch 87/100\n",
      "94/94 - 0s - loss: 0.0020\n",
      "Epoch 88/100\n",
      "94/94 - 0s - loss: 0.0020\n",
      "Epoch 89/100\n",
      "94/94 - 0s - loss: 0.0020\n",
      "Epoch 90/100\n",
      "94/94 - 0s - loss: 0.0020\n",
      "Epoch 91/100\n",
      "94/94 - 0s - loss: 0.0020\n",
      "Epoch 92/100\n",
      "94/94 - 0s - loss: 0.0019\n",
      "Epoch 93/100\n",
      "94/94 - 0s - loss: 0.0020\n",
      "Epoch 94/100\n",
      "94/94 - 0s - loss: 0.0019\n",
      "Epoch 95/100\n",
      "94/94 - 0s - loss: 0.0020\n",
      "Epoch 96/100\n",
      "94/94 - 0s - loss: 0.0020\n",
      "Epoch 97/100\n",
      "94/94 - 0s - loss: 0.0020\n",
      "Epoch 98/100\n",
      "94/94 - 0s - loss: 0.0021\n",
      "Epoch 99/100\n",
      "94/94 - 0s - loss: 0.0020\n",
      "Epoch 100/100\n",
      "94/94 - 0s - loss: 0.0020\n"
     ]
    },
    {
     "data": {
      "text/plain": [
       "<keras.callbacks.History at 0x7f87c8240280>"
      ]
     },
     "execution_count": 22,
     "metadata": {},
     "output_type": "execute_result"
    }
   ],
   "source": [
    "# create and fit the LSTM network\n",
    "model = Sequential()\n",
    "model.add(LSTM(4, input_shape=(1, look_back)))\n",
    "model.add(Dense(1))\n",
    "model.compile(loss='mean_squared_error', optimizer='adam')\n",
    "model.fit(trainX, trainY, epochs=100, batch_size=1, verbose=2)"
   ]
  },
  {
   "cell_type": "markdown",
   "metadata": {},
   "source": [
    "Once the model is fit, we can estimate the performance of the model on the train and test datasets. This will give us a point of comparison for new models.\n",
    "\n",
    "Note that we invert the predictions before calculating error scores to ensure that performance is reported in the same units as the original data (thousands of passengers per month)."
   ]
  },
  {
   "cell_type": "code",
   "execution_count": 24,
   "metadata": {},
   "outputs": [
    {
     "name": "stdout",
     "output_type": "stream",
     "text": [
      "Train score: 22.65 RMSE\n",
      "Test score: 22.65 RMSE\n"
     ]
    }
   ],
   "source": [
    "# make prediction\n",
    "trainPredict = model.predict(trainX)\n",
    "testPredict = model.predict(testX)\n",
    "\n",
    "# invert predictions\n",
    "trainPredict = scaler.inverse_transform(trainPredict)\n",
    "trainY = scaler.inverse_transform([trainY])\n",
    "testPredict = scaler.inverse_transform(testPredict)\n",
    "testY = scaler.inverse_transform([testY])\n",
    "\n",
    "# calculate root mean squared error\n",
    "trainScore = math.sqrt(mean_squared_error(trainY[0], trainPredict[:, 0]))\n",
    "print('Train score: %.2f RMSE' %(trainScore))\n",
    "testScore = math.sqrt(mean_squared_error(testY[0], testPredict[:, 0]))\n",
    "print('Test score: %.2f RMSE' %(trainScore))\n"
   ]
  },
  {
   "cell_type": "markdown",
   "metadata": {},
   "source": [
    "Finally, we can generate predictions using the model for both the train and test dataset to get a visual indication of the skill of the model.\n",
    "\n",
    "Because of how the dataset was prepared, we must shift the predictions so that they align on the x-axis with the original dataset. Once prepared, the data is plotted, showing the original dataset in blue, the predictions for the training dataset in green, and the predictions on the unseen test dataset in red."
   ]
  },
  {
   "cell_type": "code",
   "execution_count": 26,
   "metadata": {},
   "outputs": [
    {
     "data": {
      "image/png": "[encoded data removed]",
      "text/plain": [
       "<Figure size 432x288 with 1 Axes>"
      ]
     },
     "metadata": {
      "needs_background": "light"
     },
     "output_type": "display_data"
    }
   ],
   "source": [
    "# shift train predictions for plotting\n",
    "trainPredictPlot = np.empty_like(dataset)\n",
    "trainPredictPlot[:, :] = np.nan\n",
    "trainPredictPlot[look_back:len(trainPredict)+look_back, :] = trainPredict\n",
    "\n",
    "# shift test predictions for plotting\n",
    "testPredictPlot = np.empty_like(dataset)\n",
    "testPredictPlot[:, :] = np.nan\n",
    "testPredictPlot[len(trainPredict)+(look_back*2)+1:len(dataset)-1, :] = testPredict\n",
    "\n",
    "# plot baseline and predictions\n",
    "plt.plot(scaler.inverse_transform(dataset))\n",
    "plt.plot(trainPredictPlot)\n",
    "plt.plot(testPredictPlot)\n",
    "plt.show()"
   ]
  },
  {
   "cell_type": "markdown",
   "metadata": {},
   "source": [
    "# LSTM for Regression Using the Window Method\n",
    "\n",
    "We can also phrase the problem so that multiple, recent time steps can be used to make the prediction for the next time step.\n",
    "\n",
    "This is called a window, and the size of the window is a parameter that can be tuned for each problem.\n",
    "\n",
    "For example, given the current time (t) we want to predict the value at the next time in the sequence (t+1), we can use the current time (t), as well as the two prior times (t-1 and t-2) as input variables.\n",
    "\n",
    "When phrased as a regression problem, the input variables are t-2, t-1, t and the output variable is t+1.\n",
    "\n",
    "The create_dataset() function we created in the previous section allows us to create this formulation of the time series problem by increasing the look_back argument from 1 to 3.\n",
    "\n",
    "A sample of the dataset with this formulation looks as follows:"
   ]
  },
  {
   "cell_type": "code",
   "execution_count": null,
   "metadata": {},
   "outputs": [],
   "source": []
  }
 ],
 "metadata": {
  "kernelspec": {
   "display_name": "Python 3 (ipykernel)",
   "language": "python",
   "name": "python3"
  },
  "language_info": {
   "codemirror_mode": {
    "name": "ipython",
    "version": 3
   },
   "file_extension": ".py",
   "mimetype": "text/x-python",
   "name": "python",
   "nbconvert_exporter": "python",
   "pygments_lexer": "ipython3",
   "version": "3.8.10"
  }
 },
 "nbformat": 4,
 "nbformat_minor": 4
}
